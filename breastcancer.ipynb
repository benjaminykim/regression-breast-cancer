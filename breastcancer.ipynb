{
 "cells": [
  {
   "cell_type": "code",
   "execution_count": 8,
   "metadata": {},
   "outputs": [],
   "source": [
    "    # import libraries\n",
    "# machine learning\n",
    "from sklearn import svm, datasets\n",
    "from sklearn.preprocessing import LabelEncoder, StandardScaler\n",
    "\n",
    "# data manipulation\n",
    "import numpy as np\n",
    "import pandas as pd\n",
    "\n",
    "import io\n",
    "import requests\n",
    "\n",
    "#url=\"http://archive.ics.uci.edu/ml/machine-learning-databases/breast-cancer-wisconsin/wdbc.data\"\n",
    "#s=requests.get(url).content\n",
    "#c=pd.read_csv(io.StringIO(s.decode('utf-8')))\n",
    "\n",
    "# import dataset\n",
    "data = pd.read_csv(\"wdbc.data.csv\", names = [\"ID\", \"TARGET\", \"1\", \"2\", \"3\", \"4\", \"5\", \"6\", \"7\", \"8\", \"9\", \"10\",\n",
    "                                            \"11\", \"12\", \"13\", \"14\", \"15\", \"16\", \"17\", \"18\", \"19\", \"20\", \"21\", \"22\",\n",
    "                                            \"23\", \"24\", \"25\", \"26\", \"27\", \"28\", \"29\", \"30\"])"
   ]
  },
  {
   "cell_type": "code",
   "execution_count": 9,
   "metadata": {
    "scrolled": true
   },
   "outputs": [],
   "source": [
    "    # preprocess dataset\n",
    "# convert alphas in dataset to numerics\n",
    "data['TARGET'] = data['TARGET'].replace(\"M\", 1)    # M becomes 1 (malignant)\n",
    "data['TARGET'] = data['TARGET'].replace(\"B\", 0)    # B becomes 0 (benign)\n",
    "\n",
    "# drop 'ID' - variable irrelevant to diagnoses of tumor\n",
    "data = data.drop([\"ID\"], axis = 1)"
   ]
  },
  {
   "cell_type": "code",
   "execution_count": 10,
   "metadata": {
    "scrolled": true
   },
   "outputs": [
    {
     "data": {
      "text/plain": [
       "array([[  1.79900000e+01,   1.03800000e+01,   1.22800000e+02, ...,\n",
       "          2.65400000e-01,   4.60100000e-01,   1.18900000e-01],\n",
       "       [  2.05700000e+01,   1.77700000e+01,   1.32900000e+02, ...,\n",
       "          1.86000000e-01,   2.75000000e-01,   8.90200000e-02],\n",
       "       [  1.96900000e+01,   2.12500000e+01,   1.30000000e+02, ...,\n",
       "          2.43000000e-01,   3.61300000e-01,   8.75800000e-02],\n",
       "       ..., \n",
       "       [  1.17600000e+01,   1.81400000e+01,   7.50000000e+01, ...,\n",
       "          7.16000000e-02,   1.97800000e-01,   6.91500000e-02],\n",
       "       [  1.42600000e+01,   1.81700000e+01,   9.12200000e+01, ...,\n",
       "          7.53000000e-02,   2.63600000e-01,   7.67600000e-02],\n",
       "       [  1.05100000e+01,   2.30900000e+01,   6.68500000e+01, ...,\n",
       "          3.12500000e-02,   2.22700000e-01,   6.77700000e-02]])"
      ]
     },
     "execution_count": 10,
     "metadata": {},
     "output_type": "execute_result"
    }
   ],
   "source": [
    "# identify total number of instances and features\n",
    "totalInstances, numVariables = data.shape\n",
    "\n",
    "# identify number of training instances and testing instances\n",
    "trainNum = 300\n",
    "testNum = totalInstances - trainNum\n",
    "\n",
    "    # convert pandas dataframe to numpy matrix \n",
    "    # with appropriate instances of dataset\n",
    "# training matrices from 1st instance to trainNum'th instance\n",
    "X_Train = (data.iloc[:trainNum, 1:numVariables]).as_matrix()\n",
    "Y_Train = (data.iloc[:trainNum, 0]).as_matrix()\n",
    "\n",
    "# testing matrices from trainNum'th instance to final\n",
    "X_Test = (data.iloc[trainNum:, 1:numVariables]).as_matrix()\n",
    "Y_Test = (data.iloc[trainNum:, 0]).as_matrix()\n",
    "\n",
    "X_Train"
   ]
  },
  {
   "cell_type": "code",
   "execution_count": 11,
   "metadata": {
    "scrolled": true
   },
   "outputs": [],
   "source": [
    "# fit data to classifier\n",
    "classifier = svm.SVC(C=1.0, gamma='auto', kernel='linear').fit(X_Train, Y_Train)\n",
    "\n",
    "# predict outputs for test data\n",
    "prediction = classifier.predict(X_Test)"
   ]
  },
  {
   "cell_type": "code",
   "execution_count": 16,
   "metadata": {},
   "outputs": [
    {
     "name": "stdout",
     "output_type": "stream",
     "text": [
      "Accuracy: 95.54 %\n"
     ]
    }
   ],
   "source": [
    "score = 0\n",
    "\n",
    "# comput accuracy\n",
    "for i in range(testNum):\n",
    "    if prediction[i] == Y_Test[i]:\n",
    "        score += 1\n",
    "accuracy = score/testNum * 100\n",
    "\n",
    "\n",
    "print(\"Accuracy: %.2f\" % accuracy, \"%\")"
   ]
  },
  {
   "cell_type": "markdown",
   "metadata": {
    "collapsed": true
   },
   "source": []
  },
  {
   "cell_type": "code",
   "execution_count": null,
   "metadata": {
    "collapsed": true
   },
   "outputs": [],
   "source": []
  }
 ],
 "metadata": {
  "kernelspec": {
   "display_name": "Python 3",
   "language": "python",
   "name": "python3"
  },
  "language_info": {
   "codemirror_mode": {
    "name": "ipython",
    "version": 3
   },
   "file_extension": ".py",
   "mimetype": "text/x-python",
   "name": "python",
   "nbconvert_exporter": "python",
   "pygments_lexer": "ipython3",
   "version": "3.5.2"
  }
 },
 "nbformat": 4,
 "nbformat_minor": 2
}
